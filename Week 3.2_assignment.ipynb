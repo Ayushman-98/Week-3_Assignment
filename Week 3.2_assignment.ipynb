{
 "cells": [
  {
   "cell_type": "code",
   "execution_count": 136,
   "id": "ceb2b0d4-8f0f-4539-b6bc-8142a4e77c6d",
   "metadata": {},
   "outputs": [
    {
     "data": {
      "text/plain": [
       "[('Virat Kohli', 24936),\n",
       " ('Jack Kallis', 25534),\n",
       " ('Ricky Ponting', 27483),\n",
       " ('Sachin Tendulkar', 34357)]"
      ]
     },
     "execution_count": 136,
     "metadata": {},
     "output_type": "execute_result"
    }
   ],
   "source": [
    "#Answer_1\n",
    "a= [('Sachin Tendulkar', 34357), ('Ricky Ponting', 27483), ('Jack Kallis', 25534), ('Virat Kohli', 24936)]\n",
    "\n",
    "f= sorted(a, key=lambda x: x[1])\n",
    "f\n",
    "sorted"
   ]
  },
  {
   "cell_type": "code",
   "execution_count": 127,
   "id": "a6518f16-d56c-4f59-96aa-49768e46ad47",
   "metadata": {},
   "outputs": [],
   "source": [
    "#Answer_2\n",
    "s= [1, 2, 3, 4, 5, 6, 7, 8, 9, 10]"
   ]
  },
  {
   "cell_type": "code",
   "execution_count": 128,
   "id": "6950e510-4a35-4739-8bdb-6a0d95712753",
   "metadata": {},
   "outputs": [],
   "source": [
    "f= map(lambda x:x**2,s)"
   ]
  },
  {
   "cell_type": "code",
   "execution_count": 129,
   "id": "e21f43f0-bc76-41d9-97ac-5bbbcfef148f",
   "metadata": {},
   "outputs": [
    {
     "data": {
      "text/plain": [
       "[1, 4, 9, 16, 25, 36, 49, 64, 81, 100]"
      ]
     },
     "execution_count": 129,
     "metadata": {},
     "output_type": "execute_result"
    }
   ],
   "source": [
    "list(f)"
   ]
  },
  {
   "cell_type": "code",
   "execution_count": 97,
   "id": "65c3c2f4-b6e7-431c-acc0-263cc41e0e23",
   "metadata": {},
   "outputs": [],
   "source": [
    "#Answer_3\n",
    "a= [1, 2, 3, 4, 5, 6, 7, 8, 9, 10]"
   ]
  },
  {
   "cell_type": "code",
   "execution_count": 98,
   "id": "2496efee-8994-4c70-a339-ff53b15d6fba",
   "metadata": {},
   "outputs": [
    {
     "data": {
      "text/plain": [
       "('1', '2', '3', '4', '5', '6', '7', '8', '9', '10')"
      ]
     },
     "execution_count": 98,
     "metadata": {},
     "output_type": "execute_result"
    }
   ],
   "source": [
    "tuple(list(map(lambda x : str(x), a)))"
   ]
  },
  {
   "cell_type": "code",
   "execution_count": 99,
   "id": "cd21c370-e9d8-4e00-9eb7-2198bb82595e",
   "metadata": {},
   "outputs": [
    {
     "data": {
      "text/plain": [
       "15511210043330985984000000"
      ]
     },
     "execution_count": 99,
     "metadata": {},
     "output_type": "execute_result"
    }
   ],
   "source": [
    "# Answer_4\n",
    "s = list(range(1,26))\n",
    "s\n",
    "from functools import reduce\n",
    "reduce(lambda x,y:x*y,s)"
   ]
  },
  {
   "cell_type": "code",
   "execution_count": 100,
   "id": "b1b79f65-0783-4f2f-86e0-0d508675d731",
   "metadata": {},
   "outputs": [
    {
     "data": {
      "text/plain": [
       "[2, 6, 60, 90, 120, 46]"
      ]
     },
     "execution_count": 100,
     "metadata": {},
     "output_type": "execute_result"
    }
   ],
   "source": [
    "#Answer_5\n",
    "d= [2, 3, 6, 9, 27, 60, 90, 120, 55, 46]\n",
    "s0 = []\n",
    "s1 = list(filter(lambda x: x%2 ==0 & x%3 ==0,d)) \n",
    "s1\n"
   ]
  },
  {
   "cell_type": "code",
   "execution_count": 101,
   "id": "bdc6cdc2-1448-4a1e-8403-3910a361ce87",
   "metadata": {},
   "outputs": [
    {
     "name": "stdout",
     "output_type": "stream",
     "text": [
      "php\n",
      "aba\n",
      "radar\n",
      "level\n"
     ]
    }
   ],
   "source": [
    "# Answer_6\n",
    "f= ['python', 'php', 'aba', 'radar', 'level']\n",
    "for i in f:\n",
    "    if i == i[::-1]:\n",
    "        print(i)"
   ]
  },
  {
   "cell_type": "code",
   "execution_count": null,
   "id": "eee88895-f376-4d4e-9298-21721ce5499c",
   "metadata": {},
   "outputs": [],
   "source": []
  }
 ],
 "metadata": {
  "kernelspec": {
   "display_name": "Python 3 (ipykernel)",
   "language": "python",
   "name": "python3"
  },
  "language_info": {
   "codemirror_mode": {
    "name": "ipython",
    "version": 3
   },
   "file_extension": ".py",
   "mimetype": "text/x-python",
   "name": "python",
   "nbconvert_exporter": "python",
   "pygments_lexer": "ipython3",
   "version": "3.10.8"
  }
 },
 "nbformat": 4,
 "nbformat_minor": 5
}
