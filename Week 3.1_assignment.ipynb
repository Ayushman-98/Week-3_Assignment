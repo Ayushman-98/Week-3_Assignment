{
 "cells": [
  {
   "cell_type": "code",
   "execution_count": 9,
   "id": "1eabf85e-32e3-4026-a054-95a538c86951",
   "metadata": {},
   "outputs": [
    {
     "name": "stdout",
     "output_type": "stream",
     "text": [
      "1\n",
      "3\n",
      "5\n",
      "7\n",
      "9\n",
      "11\n",
      "13\n",
      "15\n",
      "17\n",
      "19\n",
      "21\n",
      "23\n",
      "25\n"
     ]
    }
   ],
   "source": [
    "#Answer 1\n",
    "#def is used to create a function\n",
    "def test1():\n",
    "    for i in range(26):\n",
    "        if i%2 != 0:\n",
    "            print(i)\n",
    "test1()"
   ]
  },
  {
   "cell_type": "code",
   "execution_count": 14,
   "id": "be91be64-03bd-459d-9139-2d61fb842c88",
   "metadata": {},
   "outputs": [
    {
     "data": {
      "text/plain": [
       "(1, 2, 3)"
      ]
     },
     "execution_count": 14,
     "metadata": {},
     "output_type": "execute_result"
    }
   ],
   "source": [
    "#Answer 2\n",
    "\"\"\"Args refers to an argument and *args  allow user to pass mutliple number of non-keyworded arguments to the functions whereas **kwargs is used to pass variable number of keyworded arguments to the function\"\"\"\n",
    "def test2(*args):\n",
    "    return args\n",
    "test2(1,2,3)\n",
    "\n"
   ]
  },
  {
   "cell_type": "code",
   "execution_count": null,
   "id": "00adcdd9-8c97-43b6-86d2-12eca15a1ce5",
   "metadata": {},
   "outputs": [],
   "source": [
    "def test3(**kwargs):\n",
    "    return kwargs\n",
    "test3(a=[1,2,3],b=\"sudh\", c=0)"
   ]
  },
  {
   "cell_type": "code",
   "execution_count": 13,
   "id": "0d637cea-8d84-424f-abcd-5b8c113ca1b9",
   "metadata": {},
   "outputs": [
    {
     "data": {
      "text/plain": [
       "2"
      ]
     },
     "execution_count": 13,
     "metadata": {},
     "output_type": "execute_result"
    }
   ],
   "source": [
    "#Answer 3\n",
    "\"\"\"An iterator in Python is an object that is used to iterate over iterable objects like lists, tuples, dicts, and sets. The \"iter\" method is used to initialize the iterator object and \"next\" method is used for iteration\"\"\"\n",
    "l= [2,4,6,8,10,12,14,16,18,20]\n",
    "\n",
    "l1= set(l)\n",
    "l1\n",
    "l2= iter(l1)\n",
    "next(l2)"
   ]
  },
  {
   "cell_type": "code",
   "execution_count": 4,
   "id": "339d9639-a12c-433c-91c4-01f4d93f61b2",
   "metadata": {},
   "outputs": [
    {
     "data": {
      "text/plain": [
       "4"
      ]
     },
     "execution_count": 4,
     "metadata": {},
     "output_type": "execute_result"
    }
   ],
   "source": [
    "next(l2)"
   ]
  },
  {
   "cell_type": "code",
   "execution_count": 5,
   "id": "ab11d0eb-e62f-465d-a4c1-dbc007163b8b",
   "metadata": {},
   "outputs": [
    {
     "data": {
      "text/plain": [
       "6"
      ]
     },
     "execution_count": 5,
     "metadata": {},
     "output_type": "execute_result"
    }
   ],
   "source": [
    "next(l2)"
   ]
  },
  {
   "cell_type": "code",
   "execution_count": 6,
   "id": "99179c5f-b682-4403-a951-568701dc342d",
   "metadata": {},
   "outputs": [
    {
     "data": {
      "text/plain": [
       "8"
      ]
     },
     "execution_count": 6,
     "metadata": {},
     "output_type": "execute_result"
    }
   ],
   "source": [
    "next(l2)"
   ]
  },
  {
   "cell_type": "code",
   "execution_count": 7,
   "id": "dca04758-6c9f-431c-92d5-d3160758d859",
   "metadata": {},
   "outputs": [
    {
     "data": {
      "text/plain": [
       "10"
      ]
     },
     "execution_count": 7,
     "metadata": {},
     "output_type": "execute_result"
    }
   ],
   "source": [
    "next(l2)"
   ]
  },
  {
   "cell_type": "code",
   "execution_count": 8,
   "id": "a2975b63-455a-4bdc-a4b6-a2be7da504b1",
   "metadata": {},
   "outputs": [
    {
     "name": "stdout",
     "output_type": "stream",
     "text": [
      "0\n",
      "1\n",
      "1\n",
      "2\n",
      "3\n",
      "5\n",
      "8\n",
      "13\n",
      "21\n",
      "34\n"
     ]
    }
   ],
   "source": [
    "#Answer 4\n",
    "\"\"\"Generator function generates a sequence of values without holding it in the memory. The generator function is used to reduce the memory consumption. Yield keyword is used to create a generator function. The yield keyword is used for converting the function into a generator function. The examples of generator function is as follows\"\"\"\n",
    "def test_fib(n):\n",
    "    a,b = 0, 1\n",
    "    for i in range(n):\n",
    "        yield a\n",
    "        a,b=b,a+b\n",
    "test_fib(10)\n",
    "for i in test_fib(10):\n",
    "    print(i)"
   ]
  },
  {
   "cell_type": "code",
   "execution_count": null,
   "id": "63c23eec-089d-4328-900f-c733ea726be4",
   "metadata": {},
   "outputs": [],
   "source": [
    "#Answer_5 \n",
    "g=[]\n",
    "def test(n):\n",
    "    for i  in range(n):\n",
    "        if i%2 !=0 or i ==2:\n",
    "            if i%(3) !=0 or i ==3:\n",
    "                if i%5 !=0 or i ==5:\n",
    "                    yield(i)\n",
    "d= test(1000)\n",
    "for i in d:\n",
    "    print(i)\n",
    "    g.append(i)\n",
    "    \n"
   ]
  },
  {
   "cell_type": "code",
   "execution_count": 101,
   "id": "37b2b0d1-b7f4-4475-a20f-10d78189b39c",
   "metadata": {},
   "outputs": [
    {
     "data": {
      "text/plain": [
       "1"
      ]
     },
     "execution_count": 101,
     "metadata": {},
     "output_type": "execute_result"
    }
   ],
   "source": [
    "f= set(g)\n",
    "f1 = iter(f)\n",
    "next(f1)"
   ]
  },
  {
   "cell_type": "code",
   "execution_count": 102,
   "id": "a4a27bdd-e42a-4b2b-91b7-0adabd84b223",
   "metadata": {},
   "outputs": [
    {
     "data": {
      "text/plain": [
       "2"
      ]
     },
     "execution_count": 102,
     "metadata": {},
     "output_type": "execute_result"
    }
   ],
   "source": [
    "next(f1)"
   ]
  },
  {
   "cell_type": "code",
   "execution_count": 103,
   "id": "bd158b0f-a6fb-4951-8ef8-da5d6d6a61dc",
   "metadata": {},
   "outputs": [
    {
     "data": {
      "text/plain": [
       "3"
      ]
     },
     "execution_count": 103,
     "metadata": {},
     "output_type": "execute_result"
    }
   ],
   "source": [
    "next(f1)"
   ]
  },
  {
   "cell_type": "code",
   "execution_count": 104,
   "id": "7cb97f61-3401-4d69-8943-f9e381906c60",
   "metadata": {},
   "outputs": [
    {
     "data": {
      "text/plain": [
       "5"
      ]
     },
     "execution_count": 104,
     "metadata": {},
     "output_type": "execute_result"
    }
   ],
   "source": [
    "next(f1)\n"
   ]
  },
  {
   "cell_type": "code",
   "execution_count": 106,
   "id": "f6fa29c0-9ad5-4e52-b7dc-e9d7fdf399e6",
   "metadata": {},
   "outputs": [
    {
     "data": {
      "text/plain": [
       "7"
      ]
     },
     "execution_count": 106,
     "metadata": {},
     "output_type": "execute_result"
    }
   ],
   "source": [
    "next(f1)"
   ]
  },
  {
   "cell_type": "code",
   "execution_count": 108,
   "id": "346ce114-0798-4e3a-9c8a-7195c2c6d922",
   "metadata": {},
   "outputs": [
    {
     "data": {
      "text/plain": [
       "11"
      ]
     },
     "execution_count": 108,
     "metadata": {},
     "output_type": "execute_result"
    }
   ],
   "source": [
    "next(f1)"
   ]
  },
  {
   "cell_type": "code",
   "execution_count": 111,
   "id": "3d4554c9-17a0-4487-b7db-bbad3e1b9067",
   "metadata": {},
   "outputs": [
    {
     "data": {
      "text/plain": [
       "13"
      ]
     },
     "execution_count": 111,
     "metadata": {},
     "output_type": "execute_result"
    }
   ],
   "source": [
    "next(f1)"
   ]
  },
  {
   "cell_type": "code",
   "execution_count": 113,
   "id": "8c3a6358-a1e1-4b7a-841a-5e06f37c7e1f",
   "metadata": {},
   "outputs": [
    {
     "data": {
      "text/plain": [
       "17"
      ]
     },
     "execution_count": 113,
     "metadata": {},
     "output_type": "execute_result"
    }
   ],
   "source": [
    "next(f1)"
   ]
  },
  {
   "cell_type": "code",
   "execution_count": 115,
   "id": "254c8a97-9dc5-415b-b518-d600d5b7cfda",
   "metadata": {},
   "outputs": [
    {
     "data": {
      "text/plain": [
       "19"
      ]
     },
     "execution_count": 115,
     "metadata": {},
     "output_type": "execute_result"
    }
   ],
   "source": [
    "next(f1)"
   ]
  },
  {
   "cell_type": "code",
   "execution_count": 117,
   "id": "f5830001-1db8-467a-99ec-ab442c4bf590",
   "metadata": {},
   "outputs": [
    {
     "data": {
      "text/plain": [
       "23"
      ]
     },
     "execution_count": 117,
     "metadata": {},
     "output_type": "execute_result"
    }
   ],
   "source": [
    "next(f1)"
   ]
  },
  {
   "cell_type": "code",
   "execution_count": 119,
   "id": "44bfc01c-b2af-4e4b-aa23-69dab50d987b",
   "metadata": {},
   "outputs": [
    {
     "data": {
      "text/plain": [
       "29"
      ]
     },
     "execution_count": 119,
     "metadata": {},
     "output_type": "execute_result"
    }
   ],
   "source": [
    "next(f1)"
   ]
  },
  {
   "cell_type": "code",
   "execution_count": 121,
   "id": "1935b356-99ca-4ae2-8115-7ffd92b54ce3",
   "metadata": {},
   "outputs": [
    {
     "data": {
      "text/plain": [
       "31"
      ]
     },
     "execution_count": 121,
     "metadata": {},
     "output_type": "execute_result"
    }
   ],
   "source": [
    "next(f1)"
   ]
  },
  {
   "cell_type": "code",
   "execution_count": 123,
   "id": "c9584a8d-1260-45c5-bc46-b50742748580",
   "metadata": {},
   "outputs": [
    {
     "data": {
      "text/plain": [
       "37"
      ]
     },
     "execution_count": 123,
     "metadata": {},
     "output_type": "execute_result"
    }
   ],
   "source": [
    "next(f1)"
   ]
  },
  {
   "cell_type": "code",
   "execution_count": 125,
   "id": "31ac0a10-5a80-4d4f-9b42-d2d12cdb2689",
   "metadata": {},
   "outputs": [
    {
     "data": {
      "text/plain": [
       "41"
      ]
     },
     "execution_count": 125,
     "metadata": {},
     "output_type": "execute_result"
    }
   ],
   "source": [
    "next(f1)"
   ]
  },
  {
   "cell_type": "code",
   "execution_count": 127,
   "id": "307b46c6-c933-4cfb-9874-37e3998a7781",
   "metadata": {},
   "outputs": [
    {
     "data": {
      "text/plain": [
       "43"
      ]
     },
     "execution_count": 127,
     "metadata": {},
     "output_type": "execute_result"
    }
   ],
   "source": [
    "next(f1)"
   ]
  },
  {
   "cell_type": "code",
   "execution_count": 129,
   "id": "9eefb745-cdbe-43f5-97b5-3bf27b396793",
   "metadata": {},
   "outputs": [
    {
     "data": {
      "text/plain": [
       "47"
      ]
     },
     "execution_count": 129,
     "metadata": {},
     "output_type": "execute_result"
    }
   ],
   "source": [
    "next(f1)"
   ]
  },
  {
   "cell_type": "code",
   "execution_count": 131,
   "id": "022b8eb0-247e-4b06-b030-645a5619dd0c",
   "metadata": {},
   "outputs": [
    {
     "data": {
      "text/plain": [
       "49"
      ]
     },
     "execution_count": 131,
     "metadata": {},
     "output_type": "execute_result"
    }
   ],
   "source": [
    "next(f1)"
   ]
  },
  {
   "cell_type": "code",
   "execution_count": 133,
   "id": "0b8544fa-5180-4b0e-b4d3-c9811e086d69",
   "metadata": {},
   "outputs": [
    {
     "data": {
      "text/plain": [
       "53"
      ]
     },
     "execution_count": 133,
     "metadata": {},
     "output_type": "execute_result"
    }
   ],
   "source": [
    "next(f1)"
   ]
  },
  {
   "cell_type": "code",
   "execution_count": 135,
   "id": "d94c5158-7da5-49d8-add6-02e2d7b46b9c",
   "metadata": {},
   "outputs": [
    {
     "data": {
      "text/plain": [
       "59"
      ]
     },
     "execution_count": 135,
     "metadata": {},
     "output_type": "execute_result"
    }
   ],
   "source": [
    "next(f1)"
   ]
  },
  {
   "cell_type": "code",
   "execution_count": 137,
   "id": "4e150c0f-7450-4dfd-bcad-ca501293a6ee",
   "metadata": {},
   "outputs": [
    {
     "data": {
      "text/plain": [
       "61"
      ]
     },
     "execution_count": 137,
     "metadata": {},
     "output_type": "execute_result"
    }
   ],
   "source": [
    "next(f1)"
   ]
  },
  {
   "cell_type": "code",
   "execution_count": 110,
   "id": "d83e556f-b0f0-4934-b4c0-041f4cde0bfe",
   "metadata": {},
   "outputs": [
    {
     "data": {
      "text/plain": [
       "<generator object test at 0x7f028027fe60>"
      ]
     },
     "execution_count": 110,
     "metadata": {},
     "output_type": "execute_result"
    }
   ],
   "source": [
    "# Answer 6\n",
    "def test():\n",
    "    a,b=0,1\n",
    "    while True:\n",
    "        yield (a)\n",
    "    a,b = b,a+b\n",
    "test()"
   ]
  },
  {
   "cell_type": "code",
   "execution_count": 48,
   "id": "289fa5e1-ee52-4212-b521-b112fa4cf473",
   "metadata": {},
   "outputs": [
    {
     "name": "stdout",
     "output_type": "stream",
     "text": [
      "0\n",
      "1\n",
      "2\n",
      "3\n",
      "4\n",
      "5\n",
      "6\n",
      "7\n",
      "8\n",
      "9\n"
     ]
    }
   ],
   "source": [
    "for i in range(10):\n",
    "    print(i)"
   ]
  },
  {
   "cell_type": "code",
   "execution_count": 11,
   "id": "0805a200-8bcf-4d9f-a945-9422c9ce29ef",
   "metadata": {},
   "outputs": [
    {
     "data": {
      "text/plain": [
       "['p', 'w', 's', 'k', 'i', 'l', 'l', 's']"
      ]
     },
     "execution_count": 11,
     "metadata": {},
     "output_type": "execute_result"
    }
   ],
   "source": [
    "# Answer 7\n",
    "s= \"pwskills\"\n",
    "d=[]\n",
    "for i in s:\n",
    "    d.append(i)\n",
    "d\n",
    "    \n"
   ]
  },
  {
   "cell_type": "code",
   "execution_count": null,
   "id": "3f31a292-7b58-470d-ac43-e7683008ee85",
   "metadata": {},
   "outputs": [],
   "source": [
    "# Answer 8\n",
    "s = str(input())\n",
    "while s == s[::-1]: \n",
    "        print(\"its a palindrome\")\n",
    "else:        \n",
    "    print(\"not a palindrome\")\n",
    "    \n",
    "        "
   ]
  },
  {
   "cell_type": "code",
   "execution_count": null,
   "id": "f816c67c-d61f-43f2-a3b1-d15accd5d045",
   "metadata": {},
   "outputs": [],
   "source": [
    "# Answer 9\n",
    "r = list(range(100))\n",
    "list(filter(lambda x: x%2!=0, r))"
   ]
  },
  {
   "cell_type": "code",
   "execution_count": 155,
   "id": "bfe367e0-f885-41dd-9812-947798cc223b",
   "metadata": {},
   "outputs": [],
   "source": []
  },
  {
   "cell_type": "code",
   "execution_count": null,
   "id": "f49ef78d-8a0f-4579-969a-eaa0a00d312c",
   "metadata": {},
   "outputs": [],
   "source": []
  }
 ],
 "metadata": {
  "kernelspec": {
   "display_name": "Python 3 (ipykernel)",
   "language": "python",
   "name": "python3"
  },
  "language_info": {
   "codemirror_mode": {
    "name": "ipython",
    "version": 3
   },
   "file_extension": ".py",
   "mimetype": "text/x-python",
   "name": "python",
   "nbconvert_exporter": "python",
   "pygments_lexer": "ipython3",
   "version": "3.10.8"
  }
 },
 "nbformat": 4,
 "nbformat_minor": 5
}
